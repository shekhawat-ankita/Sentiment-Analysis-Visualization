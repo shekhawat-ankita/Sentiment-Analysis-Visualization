{
 "cells": [
  {
   "attachments": {},
   "cell_type": "markdown",
   "metadata": {},
   "source": [
    "### Import necessary modules"
   ]
  },
  {
   "cell_type": "code",
   "execution_count": 1,
   "metadata": {},
   "outputs": [],
   "source": [
    "import pandas as pd\n",
    "import mysql.connector as mysql\n",
    "from textblob import TextBlob\n",
    "import matplotlib.pyplot as plt"
   ]
  },
  {
   "cell_type": "code",
   "execution_count": 2,
   "metadata": {},
   "outputs": [],
   "source": [
    "sentiment_csv = pd.read_csv('customer_review.csv')"
   ]
  },
  {
   "attachments": {},
   "cell_type": "markdown",
   "metadata": {},
   "source": [
    "### Export csv file in databse "
   ]
  },
  {
   "cell_type": "code",
   "execution_count": 3,
   "metadata": {},
   "outputs": [
    {
     "name": "stdout",
     "output_type": "stream",
     "text": [
      "You're connected to database:  ('python_lib',)\n",
      "Creating table....\n",
      "Table is created....\n",
      "Record inserted\n",
      "Record inserted\n",
      "Record inserted\n",
      "Record inserted\n",
      "Record inserted\n",
      "Record inserted\n",
      "Record inserted\n",
      "Record inserted\n",
      "Record inserted\n",
      "Record inserted\n",
      "Record inserted\n",
      "Record inserted\n",
      "Record inserted\n",
      "Record inserted\n",
      "Record inserted\n",
      "Record inserted\n",
      "Record inserted\n",
      "Record inserted\n",
      "Record inserted\n",
      "Record inserted\n",
      "Record inserted\n",
      "Record inserted\n",
      "Record inserted\n",
      "Record inserted\n",
      "Record inserted\n",
      "Record inserted\n",
      "Record inserted\n",
      "Record inserted\n",
      "Record inserted\n",
      "Record inserted\n",
      "Record inserted\n",
      "Record inserted\n",
      "Record inserted\n",
      "Record inserted\n",
      "Record inserted\n",
      "Record inserted\n",
      "Record inserted\n",
      "Record inserted\n",
      "Record inserted\n",
      "Record inserted\n",
      "Record inserted\n",
      "Record inserted\n",
      "Record inserted\n",
      "Record inserted\n",
      "Record inserted\n",
      "Record inserted\n",
      "Record inserted\n",
      "Record inserted\n",
      "Record inserted\n",
      "Record inserted\n",
      "Record inserted\n",
      "Record inserted\n",
      "Record inserted\n",
      "Record inserted\n",
      "Record inserted\n",
      "Record inserted\n",
      "Record inserted\n",
      "Record inserted\n",
      "Record inserted\n",
      "Record inserted\n",
      "Record inserted\n",
      "Record inserted\n",
      "Record inserted\n",
      "Record inserted\n",
      "Record inserted\n",
      "Record inserted\n",
      "Record inserted\n",
      "Record inserted\n",
      "Record inserted\n",
      "Record inserted\n",
      "Record inserted\n",
      "Record inserted\n",
      "Record inserted\n",
      "Record inserted\n",
      "Record inserted\n",
      "Record inserted\n",
      "Record inserted\n",
      "Record inserted\n",
      "Record inserted\n",
      "Record inserted\n",
      "Record inserted\n",
      "Record inserted\n",
      "Record inserted\n",
      "Record inserted\n",
      "Record inserted\n",
      "Record inserted\n",
      "Record inserted\n",
      "Record inserted\n",
      "Record inserted\n",
      "Record inserted\n",
      "Record inserted\n",
      "Record inserted\n",
      "Record inserted\n",
      "Record inserted\n",
      "Record inserted\n",
      "Record inserted\n",
      "Record inserted\n",
      "Record inserted\n",
      "Record inserted\n",
      "Record inserted\n"
     ]
    }
   ],
   "source": [
    "conn = mysql.connect(host='127.0.0.1', database='python_lib', user='root', password='')\n",
    "\n",
    "try:\n",
    "    if conn.is_connected():\n",
    "        cursor = conn.cursor()\n",
    "        cursor.execute(\"select database();\")\n",
    "        record = cursor.fetchone()\n",
    "        print(\"You're connected to database: \", record)\n",
    "        cursor.execute('DROP TABLE IF EXISTS sentiment;')\n",
    "        print('Creating table....')\n",
    "        # in the below line please pass the create table statement which you want to create\n",
    "        cursor.execute(\"CREATE TABLE sentiment(user_id int(255),name varchar(255),age int(255),gender varchar(255),review varchar(255))\")\n",
    "        print(\"Table is created....\")\n",
    "        #loop through the data frame\n",
    "        for i,row in sentiment_csv.iterrows():\n",
    "            #here %S means string values \n",
    "            sql = \"INSERT INTO python_lib.sentiment VALUES (%s,%s,%s,%s,%s)\"\n",
    "            cursor.execute(sql, tuple(row))\n",
    "            print(\"Record inserted\")\n",
    "            # the connection is not auto committed by default, so we must commit to save our changes\n",
    "            conn.commit()\n",
    "except :\n",
    "    print(\"Error while connecting to movies\")\n",
    "\n",
    "conn.close()"
   ]
  },
  {
   "attachments": {},
   "cell_type": "markdown",
   "metadata": {},
   "source": [
    "### Import table from database to dataframe"
   ]
  },
  {
   "cell_type": "code",
   "execution_count": 4,
   "metadata": {},
   "outputs": [
    {
     "name": "stderr",
     "output_type": "stream",
     "text": [
      "/tmp/ipykernel_128405/210899373.py:4: UserWarning: pandas only supports SQLAlchemy connectable (engine/connection) or database string URI or sqlite3 DBAPI2 connection. Other DBAPI2 objects are not tested. Please consider using SQLAlchemy.\n",
      "  sentiment_df = pd.read_sql(sentiment_query, connection)\n"
     ]
    }
   ],
   "source": [
    "connection = mysql.connect(host='127.0.0.1', database='python_lib', user='root', password='')\n",
    "sentiment_query = \"SELECT * FROM sentiment\"\n",
    "\n",
    "sentiment_df = pd.read_sql(sentiment_query, connection)"
   ]
  },
  {
   "attachments": {},
   "cell_type": "markdown",
   "metadata": {},
   "source": [
    "### Extract sentiment of the review"
   ]
  },
  {
   "cell_type": "code",
   "execution_count": 5,
   "metadata": {},
   "outputs": [
    {
     "name": "stdout",
     "output_type": "stream",
     "text": [
      "    user_id              name  age   gender  \\\n",
      "0         1        John Smith   32     Male   \n",
      "1         2          Jane Doe   28   Female   \n",
      "2         3   Michael Johnson   45     Male   \n",
      "3         4      Emily Wilson   37   Female   \n",
      "4         5       David Brown   19     Male   \n",
      "..      ...               ...  ...      ...   \n",
      "95       96    Grace Thompson   32   Female   \n",
      "96       97      Aiden Wright   31     Male   \n",
      "97       98        Zoe Turner   28   Female   \n",
      "98       99    Matthew Harris   39     Male   \n",
      "99      100        Ella Davis   25   Female   \n",
      "\n",
      "                                               review sentiment  \n",
      "0                I loved the movie! It was fantastic.      good  \n",
      "1           The food at this restaurant was terrible.       bad  \n",
      "2           The hotel staff was friendly and helpful.      good  \n",
      "3    I had a bad experience with the customer serv...       bad  \n",
      "4        The concert was amazing. I had a great time.      good  \n",
      "..                                                ...       ...  \n",
      "95       The hotel staff was welcoming and attentive.      good  \n",
      "96     The coffee at this cafe is rich and flavorful.      good  \n",
      "97   The customer support team was unresponsive an...       bad  \n",
      "98   The museum exhibits were informative and show...   neutral  \n",
      "99   The beauty salon provided excellent service a...      good  \n",
      "\n",
      "[100 rows x 6 columns]\n"
     ]
    }
   ],
   "source": [
    "# Perform sentiment analysis on each review\n",
    "sentiments = []\n",
    "for review in sentiment_df['review']:\n",
    "    text_blob = TextBlob(review)\n",
    "    sentiment = text_blob.sentiment.polarity\n",
    "    \n",
    "    if sentiment > 0:\n",
    "        sentiment_category = 'good'\n",
    "    elif sentiment < 0:\n",
    "        sentiment_category = 'bad'\n",
    "    else:\n",
    "        sentiment_category = 'neutral'\n",
    "\n",
    "    sentiments.append(sentiment_category)\n",
    "\n",
    "# Add the sentiments to the dataset\n",
    "sentiment_df['sentiment'] = sentiments\n",
    "\n",
    "# Print the dataset with sentiments\n",
    "print(sentiment_df)\n",
    "\n",
    "# Save the DataFrame to a CSV file\n",
    "sentiment_df.to_csv('data/sentiment_dataset.csv', index=False)"
   ]
  },
  {
   "attachments": {},
   "cell_type": "markdown",
   "metadata": {},
   "source": [
    "### Visualise extracted sentiment"
   ]
  },
  {
   "cell_type": "code",
   "execution_count": 6,
   "metadata": {},
   "outputs": [
    {
     "data": {
      "image/png": "[encoded data removed]",
      "text/plain": [
       "<Figure size 640x480 with 1 Axes>"
      ]
     },
     "metadata": {},
     "output_type": "display_data"
    }
   ],
   "source": [
    "# Read the dataset with sentiments from the CSV file\n",
    "sentiment_df = pd.read_csv('sentiment_dataset.csv')\n",
    "\n",
    "# Count the number of each sentiment category\n",
    "sentiment_counts = sentiment_df['sentiment'].value_counts()\n",
    "\n",
    "# Create a bar plot to visualize the sentiment distribution\n",
    "plt.bar(sentiment_counts.index, sentiment_counts.values)\n",
    "plt.xlabel('Sentiment Category')\n",
    "plt.ylabel('Count')\n",
    "plt.title('Sentiment Distribution')\n",
    "plt.show()"
   ]
  }
 ],
 "metadata": {
  "kernelspec": {
   "display_name": "Python 3",
   "language": "python",
   "name": "python3"
  },
  "language_info": {
   "codemirror_mode": {
    "name": "ipython",
    "version": 3
   },
   "file_extension": ".py",
   "mimetype": "text/x-python",
   "name": "python",
   "nbconvert_exporter": "python",
   "pygments_lexer": "ipython3",
   "version": "3.10.12"
  },
  "orig_nbformat": 4
 },
 "nbformat": 4,
 "nbformat_minor": 2
}
